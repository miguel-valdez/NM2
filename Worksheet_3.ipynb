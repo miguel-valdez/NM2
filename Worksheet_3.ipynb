{
 "metadata": {
  "name": "",
  "signature": "sha256:a21a822c930c07c3a3290e64da2a5ef25ac39135190f7f58e994e7dcf8329a53"
 },
 "nbformat": 3,
 "nbformat_minor": 0,
 "worksheets": [
  {
   "cells": [
    {
     "cell_type": "code",
     "collapsed": false,
     "input": [
      "%pylab inline"
     ],
     "language": "python",
     "metadata": {},
     "outputs": [
      {
       "output_type": "stream",
       "stream": "stdout",
       "text": [
        "Populating the interactive namespace from numpy and matplotlib\n"
       ]
      }
     ],
     "prompt_number": 1
    },
    {
     "cell_type": "code",
     "collapsed": false,
     "input": [
      "def k(y):\n",
      "    return (((1.e-10)-(1.e-9))/50)*y + (1.e-9)\n",
      "\n",
      "imax = 221\n",
      "jmax = 101\n",
      "#array to store all P values\n",
      "P = zeros((imax,jmax))\n",
      "\n",
      "rho = 1000.\n",
      "g = 9.81\n",
      "h = 10.\n",
      "u = 1*(10**-3)\n",
      "dx = 50./(jmax-1)\n",
      "m=(1.e-10-1.e-9)/50\n",
      "\n",
      "a=zeros((imax,jmax))\n",
      "b=zeros((imax,jmax))\n",
      "c=zeros((imax,jmax))\n",
      "d=zeros((imax,jmax))\n",
      "e=zeros((imax,jmax))\n",
      "f=zeros((imax,jmax))\n",
      "\n",
      "print('Setting up initial guess')\n",
      "\n",
      "for i in range(0, imax):\n",
      "    for j in range(0, jmax):\n",
      "        y=j*dx\n",
      "        P[i][j]=rho*g*(50.-y)\n",
      "\n",
      "print('Setting up internal points')\n",
      "\n",
      "#internal points\n",
      "\n",
      "for i in range(1,imax-1):\n",
      "    for j in range(1,jmax-1):\n",
      "        y=j*dx\n",
      "        a[i][j]=1.0\n",
      "        b[i][j]=1.0\n",
      "        c[i][j]=1.0+dx/(2.*k(y))*m\n",
      "        d[i][j]=1.0-dx/(2.*k(y))*m\n",
      "        e[i][j]=-4.0\n",
      "        f[i][j]=-(dx**2)*m*rho*g/k(y)\n",
      "\n",
      "print('Setting up boundary points')\n",
      "        \n",
      "#top and bottom\n",
      "\n",
      "for i in range(0,imax):\n",
      "    x=i*dx\n",
      "    if (x<50):\n",
      "        P[i][jmax-1]=rho*g*h\n",
      "        e[i][jmax-1]=1.0\n",
      "        f[i][jmax-1]=rho*g*h\n",
      "    elif (x<60):\n",
      "        d[i][jmax-1] = -1.\n",
      "        e[i][jmax-1] = 1.\n",
      "        f[i][jmax-1] = -rho*g*dx\n",
      "    else:\n",
      "        e[i][jmax-1]=1.0\n",
      "        \n",
      "    c[i][0] = 1.\n",
      "    e[i][0] = -1.\n",
      "    f[i][0] = -rho*g*dx\n",
      "    \n",
      "#left and right\n",
      "\n",
      "for j in range(0,jmax):\n",
      "    a[0][j] = 1.\n",
      "    e[0][j] = -1.\n",
      "    \n",
      "    b[imax-1][j]=-1.\n",
      "    e[imax-1][j]=1.\n",
      "\n",
      "\n",
      "cnt = 1\n",
      "\n",
      "w = 1.3\n",
      "residual_max = 1.0\n",
      "sum_residual = 100.\n",
      "\n",
      "print('Starting main calculation loop')\n",
      "\n",
      "\n",
      "while sum_residual > residual_max:\n",
      "    res_count = 0\n",
      "    sum_residual = 0\n",
      "    for i in range(0, imax):\n",
      "        for j in range(0, jmax):\n",
      "            if (i+j)%2==cnt%2:\n",
      "                resid = e[i,j]*P[i,j] - f[i,j]\n",
      "                if i<imax-1:\n",
      "                    resid += a[i,j]*P[i+1,j]\n",
      "                if i>0:\n",
      "                    resid += b[i,j]*P[i-1,j]\n",
      "                if j<jmax-1:\n",
      "                    resid += c[i,j]*P[i,j+1]\n",
      "                if j>0:\n",
      "                    resid += d[i,j]*P[i,j-1]\n",
      "                P[i,j] = P[i,j] - w*(resid)/e[i,j]\n",
      "                sum_residual = sum_residual + math.fabs(resid)\n",
      "                res_count = res_count + 1\n",
      "    sum_residual = sum_residual/res_count\n",
      "    cnt = cnt + 1\n",
      "    \n",
      "    if (cnt%100==0):\n",
      "        print sum_residual\n",
      "        imshow(P)\n",
      "        show()\n",
      "\n",
      "f2 = figure()\n",
      "imshow(P)\n",
      "show()\n"
     ],
     "language": "python",
     "metadata": {},
     "outputs": [
      {
       "output_type": "stream",
       "stream": "stdout",
       "text": [
        "Setting up initial guess\n",
        "Setting up internal points\n",
        "Setting up boundary points"
       ]
      },
      {
       "output_type": "stream",
       "stream": "stdout",
       "text": [
        "\n",
        "Starting main calculation loop\n",
        "80.1276489843"
       ]
      },
      {
       "output_type": "stream",
       "stream": "stdout",
       "text": [
        "\n"
       ]
      },
      {
       "metadata": {},
       "output_type": "display_data",
       "png": "[encoded data removed]",
       "text": [
        "<matplotlib.figure.Figure at 0x8773c18>"
       ]
      },
      {
       "output_type": "stream",
       "stream": "stdout",
       "text": [
        "53.461443002\n"
       ]
      },
      {
       "metadata": {},
       "output_type": "display_data",
       "png": "[encoded data removed]",
       "text": [
        "<matplotlib.figure.Figure at 0x880ce48>"
       ]
      },
      {
       "output_type": "stream",
       "stream": "stdout",
       "text": [
        "42.0766648451\n"
       ]
      },
      {
       "metadata": {},
       "output_type": "display_data",
       "png": "[encoded data removed]",
       "text": [
        "<matplotlib.figure.Figure at 0x883af28>"
       ]
      },
      {
       "output_type": "stream",
       "stream": "stdout",
       "text": [
        "35.4434928691\n"
       ]
      },
      {
       "metadata": {},
       "output_type": "display_data",
       "png": "[encoded data removed]",
       "text": [
        "<matplotlib.figure.Figure at 0x8cb7160>"
       ]
      },
      {
       "ename": "KeyboardInterrupt",
       "evalue": "",
       "output_type": "pyerr",
       "traceback": [
        "\u001b[1;31m---------------------------------------------------------------------------\u001b[0m\n\u001b[1;31mKeyboardInterrupt\u001b[0m                         Traceback (most recent call last)",
        "\u001b[1;32m<ipython-input-2-2834d90b5252>\u001b[0m in \u001b[0;36m<module>\u001b[1;34m()\u001b[0m\n\u001b[0;32m     87\u001b[0m     \u001b[1;32mfor\u001b[0m \u001b[0mi\u001b[0m \u001b[1;32min\u001b[0m \u001b[0mrange\u001b[0m\u001b[1;33m(\u001b[0m\u001b[1;36m0\u001b[0m\u001b[1;33m,\u001b[0m \u001b[0mimax\u001b[0m\u001b[1;33m)\u001b[0m\u001b[1;33m:\u001b[0m\u001b[1;33m\u001b[0m\u001b[0m\n\u001b[0;32m     88\u001b[0m         \u001b[1;32mfor\u001b[0m \u001b[0mj\u001b[0m \u001b[1;32min\u001b[0m \u001b[0mrange\u001b[0m\u001b[1;33m(\u001b[0m\u001b[1;36m0\u001b[0m\u001b[1;33m,\u001b[0m \u001b[0mjmax\u001b[0m\u001b[1;33m)\u001b[0m\u001b[1;33m:\u001b[0m\u001b[1;33m\u001b[0m\u001b[0m\n\u001b[1;32m---> 89\u001b[1;33m             \u001b[1;32mif\u001b[0m \u001b[1;33m(\u001b[0m\u001b[0mi\u001b[0m\u001b[1;33m+\u001b[0m\u001b[0mj\u001b[0m\u001b[1;33m)\u001b[0m\u001b[1;33m%\u001b[0m\u001b[1;36m2\u001b[0m\u001b[1;33m==\u001b[0m\u001b[0mcnt\u001b[0m\u001b[1;33m%\u001b[0m\u001b[1;36m2\u001b[0m\u001b[1;33m:\u001b[0m\u001b[1;33m\u001b[0m\u001b[0m\n\u001b[0m\u001b[0;32m     90\u001b[0m                 \u001b[0mresid\u001b[0m \u001b[1;33m=\u001b[0m \u001b[0me\u001b[0m\u001b[1;33m[\u001b[0m\u001b[0mi\u001b[0m\u001b[1;33m,\u001b[0m\u001b[0mj\u001b[0m\u001b[1;33m]\u001b[0m\u001b[1;33m*\u001b[0m\u001b[0mP\u001b[0m\u001b[1;33m[\u001b[0m\u001b[0mi\u001b[0m\u001b[1;33m,\u001b[0m\u001b[0mj\u001b[0m\u001b[1;33m]\u001b[0m \u001b[1;33m-\u001b[0m \u001b[0mf\u001b[0m\u001b[1;33m[\u001b[0m\u001b[0mi\u001b[0m\u001b[1;33m,\u001b[0m\u001b[0mj\u001b[0m\u001b[1;33m]\u001b[0m\u001b[1;33m\u001b[0m\u001b[0m\n\u001b[0;32m     91\u001b[0m                 \u001b[1;32mif\u001b[0m \u001b[0mi\u001b[0m\u001b[1;33m<\u001b[0m\u001b[0mimax\u001b[0m\u001b[1;33m-\u001b[0m\u001b[1;36m1\u001b[0m\u001b[1;33m:\u001b[0m\u001b[1;33m\u001b[0m\u001b[0m\n",
        "\u001b[1;31mKeyboardInterrupt\u001b[0m: "
       ]
      }
     ],
     "prompt_number": 2
    },
    {
     "cell_type": "code",
     "collapsed": false,
     "input": [],
     "language": "python",
     "metadata": {},
     "outputs": []
    }
   ],
   "metadata": {}
  }
 ]
}